{
 "cells": [
  {
   "cell_type": "code",
   "execution_count": 1,
   "metadata": {},
   "outputs": [
    {
     "name": "stdout",
     "output_type": "stream",
     "text": [
      "Requirement already satisfied: joblib in c:\\users\\rhuth\\anaconda3\\lib\\site-packages (0.14.1)\n",
      "Note: you may need to restart the kernel to use updated packages.\n"
     ]
    }
   ],
   "source": [
    "pip install joblib"
   ]
  },
  {
   "cell_type": "code",
   "execution_count": 2,
   "metadata": {},
   "outputs": [
    {
     "name": "stderr",
     "output_type": "stream",
     "text": [
      "C:\\Users\\rhuth\\anaconda3\\lib\\site-packages\\sklearn\\externals\\joblib\\__init__.py:15: FutureWarning: sklearn.externals.joblib is deprecated in 0.21 and will be removed in 0.23. Please import this functionality directly from joblib, which can be installed with: pip install joblib. If this warning is raised when loading pickled models, you may need to re-serialize those models with scikit-learn 0.21+.\n",
      "  warnings.warn(msg, category=FutureWarning)\n"
     ]
    }
   ],
   "source": [
    "import pandas as pd\n",
    "import numpy as np\n",
    "import sklearn\n",
    "from sklearn import linear_model\n",
    "import matplotlib\n",
    "from sklearn.utils import shuffle\n",
    "from sklearn.model_selection import train_test_split\n",
    "from sklearn.externals import joblib\n",
    "from matplotlib import style\n",
    "from matplotlib import pyplot as plt"
   ]
  },
  {
   "cell_type": "code",
   "execution_count": 3,
   "metadata": {},
   "outputs": [],
   "source": [
    "data=pd.read_csv(\"D:\\ML mini projects\\student-mat.csv\",sep=\";\")"
   ]
  },
  {
   "cell_type": "code",
   "execution_count": 4,
   "metadata": {},
   "outputs": [
    {
     "data": {
      "text/html": [
       "<div>\n",
       "<style scoped>\n",
       "    .dataframe tbody tr th:only-of-type {\n",
       "        vertical-align: middle;\n",
       "    }\n",
       "\n",
       "    .dataframe tbody tr th {\n",
       "        vertical-align: top;\n",
       "    }\n",
       "\n",
       "    .dataframe thead th {\n",
       "        text-align: right;\n",
       "    }\n",
       "</style>\n",
       "<table border=\"1\" class=\"dataframe\">\n",
       "  <thead>\n",
       "    <tr style=\"text-align: right;\">\n",
       "      <th></th>\n",
       "      <th>school</th>\n",
       "      <th>sex</th>\n",
       "      <th>age</th>\n",
       "      <th>address</th>\n",
       "      <th>famsize</th>\n",
       "      <th>Pstatus</th>\n",
       "      <th>Medu</th>\n",
       "      <th>Fedu</th>\n",
       "      <th>Mjob</th>\n",
       "      <th>Fjob</th>\n",
       "      <th>...</th>\n",
       "      <th>famrel</th>\n",
       "      <th>freetime</th>\n",
       "      <th>goout</th>\n",
       "      <th>Dalc</th>\n",
       "      <th>Walc</th>\n",
       "      <th>health</th>\n",
       "      <th>absences</th>\n",
       "      <th>G1</th>\n",
       "      <th>G2</th>\n",
       "      <th>G3</th>\n",
       "    </tr>\n",
       "  </thead>\n",
       "  <tbody>\n",
       "    <tr>\n",
       "      <th>0</th>\n",
       "      <td>GP</td>\n",
       "      <td>F</td>\n",
       "      <td>18</td>\n",
       "      <td>U</td>\n",
       "      <td>GT3</td>\n",
       "      <td>A</td>\n",
       "      <td>4</td>\n",
       "      <td>4</td>\n",
       "      <td>at_home</td>\n",
       "      <td>teacher</td>\n",
       "      <td>...</td>\n",
       "      <td>4</td>\n",
       "      <td>3</td>\n",
       "      <td>4</td>\n",
       "      <td>1</td>\n",
       "      <td>1</td>\n",
       "      <td>3</td>\n",
       "      <td>6</td>\n",
       "      <td>5</td>\n",
       "      <td>6</td>\n",
       "      <td>6</td>\n",
       "    </tr>\n",
       "    <tr>\n",
       "      <th>1</th>\n",
       "      <td>GP</td>\n",
       "      <td>F</td>\n",
       "      <td>17</td>\n",
       "      <td>U</td>\n",
       "      <td>GT3</td>\n",
       "      <td>T</td>\n",
       "      <td>1</td>\n",
       "      <td>1</td>\n",
       "      <td>at_home</td>\n",
       "      <td>other</td>\n",
       "      <td>...</td>\n",
       "      <td>5</td>\n",
       "      <td>3</td>\n",
       "      <td>3</td>\n",
       "      <td>1</td>\n",
       "      <td>1</td>\n",
       "      <td>3</td>\n",
       "      <td>4</td>\n",
       "      <td>5</td>\n",
       "      <td>5</td>\n",
       "      <td>6</td>\n",
       "    </tr>\n",
       "    <tr>\n",
       "      <th>2</th>\n",
       "      <td>GP</td>\n",
       "      <td>F</td>\n",
       "      <td>15</td>\n",
       "      <td>U</td>\n",
       "      <td>LE3</td>\n",
       "      <td>T</td>\n",
       "      <td>1</td>\n",
       "      <td>1</td>\n",
       "      <td>at_home</td>\n",
       "      <td>other</td>\n",
       "      <td>...</td>\n",
       "      <td>4</td>\n",
       "      <td>3</td>\n",
       "      <td>2</td>\n",
       "      <td>2</td>\n",
       "      <td>3</td>\n",
       "      <td>3</td>\n",
       "      <td>10</td>\n",
       "      <td>7</td>\n",
       "      <td>8</td>\n",
       "      <td>10</td>\n",
       "    </tr>\n",
       "    <tr>\n",
       "      <th>3</th>\n",
       "      <td>GP</td>\n",
       "      <td>F</td>\n",
       "      <td>15</td>\n",
       "      <td>U</td>\n",
       "      <td>GT3</td>\n",
       "      <td>T</td>\n",
       "      <td>4</td>\n",
       "      <td>2</td>\n",
       "      <td>health</td>\n",
       "      <td>services</td>\n",
       "      <td>...</td>\n",
       "      <td>3</td>\n",
       "      <td>2</td>\n",
       "      <td>2</td>\n",
       "      <td>1</td>\n",
       "      <td>1</td>\n",
       "      <td>5</td>\n",
       "      <td>2</td>\n",
       "      <td>15</td>\n",
       "      <td>14</td>\n",
       "      <td>15</td>\n",
       "    </tr>\n",
       "    <tr>\n",
       "      <th>4</th>\n",
       "      <td>GP</td>\n",
       "      <td>F</td>\n",
       "      <td>16</td>\n",
       "      <td>U</td>\n",
       "      <td>GT3</td>\n",
       "      <td>T</td>\n",
       "      <td>3</td>\n",
       "      <td>3</td>\n",
       "      <td>other</td>\n",
       "      <td>other</td>\n",
       "      <td>...</td>\n",
       "      <td>4</td>\n",
       "      <td>3</td>\n",
       "      <td>2</td>\n",
       "      <td>1</td>\n",
       "      <td>2</td>\n",
       "      <td>5</td>\n",
       "      <td>4</td>\n",
       "      <td>6</td>\n",
       "      <td>10</td>\n",
       "      <td>10</td>\n",
       "    </tr>\n",
       "  </tbody>\n",
       "</table>\n",
       "<p>5 rows × 33 columns</p>\n",
       "</div>"
      ],
      "text/plain": [
       "  school sex  age address famsize Pstatus  Medu  Fedu     Mjob      Fjob  ...  \\\n",
       "0     GP   F   18       U     GT3       A     4     4  at_home   teacher  ...   \n",
       "1     GP   F   17       U     GT3       T     1     1  at_home     other  ...   \n",
       "2     GP   F   15       U     LE3       T     1     1  at_home     other  ...   \n",
       "3     GP   F   15       U     GT3       T     4     2   health  services  ...   \n",
       "4     GP   F   16       U     GT3       T     3     3    other     other  ...   \n",
       "\n",
       "  famrel freetime  goout  Dalc  Walc health absences  G1  G2  G3  \n",
       "0      4        3      4     1     1      3        6   5   6   6  \n",
       "1      5        3      3     1     1      3        4   5   5   6  \n",
       "2      4        3      2     2     3      3       10   7   8  10  \n",
       "3      3        2      2     1     1      5        2  15  14  15  \n",
       "4      4        3      2     1     2      5        4   6  10  10  \n",
       "\n",
       "[5 rows x 33 columns]"
      ]
     },
     "execution_count": 4,
     "metadata": {},
     "output_type": "execute_result"
    }
   ],
   "source": [
    "data.head()"
   ]
  },
  {
   "cell_type": "code",
   "execution_count": 5,
   "metadata": {},
   "outputs": [],
   "source": [
    "data=data[['G1','G2','G3','studytime','failures','absences']]\n",
    "data=shuffle(data)\n",
    "# to shuffle the data, so they are not in a specific order"
   ]
  },
  {
   "cell_type": "code",
   "execution_count": 6,
   "metadata": {},
   "outputs": [],
   "source": [
    "label='G3'\n",
    "# seperating features from the labels\n",
    "X=np.array(data.drop([label],axis=1))\n",
    "y=np.array(data[label])"
   ]
  },
  {
   "cell_type": "code",
   "execution_count": 7,
   "metadata": {},
   "outputs": [
    {
     "name": "stdout",
     "output_type": "stream",
     "text": [
      "[[10  0  2  0  0]\n",
      " [16 17  1  0  4]\n",
      " [ 8 10  2  0  6]\n",
      " ...\n",
      " [16 17  3  0  0]\n",
      " [10 12  1  0  2]\n",
      " [ 6  8  1  1  0]]\n",
      "[ 0 18 10 15  0 16 11  8 12 12  7  0 14  8  9 12 14 10 15 16 10 15  6 19\n",
      "  0 16  8  9 10  6  6 12 15 11  9 15 15 16 10 12  8 16 10  0  0 11 10 14\n",
      "  9 14  8 10 11 14 16  9 12 13 12 15 15 12 14 15  9  0  8 11 12  0  5  8\n",
      "  0  0  9 12 10 11 13  0 11  6  9 20 11  9 11  9 13  5 10  0 11 15 14 10\n",
      " 10 11  7 10  9  5 15  0 10  8  7 11 14 13 11  0 15 16 13 15  6  8  0 16\n",
      " 10  0  8 12 12  0 10  9 13 14 10 12 10 18  6 14 11 14  9 12 13 10  6 11\n",
      "  7 17 10 10  8 10 12 18 11 11 13 10 14 13 12  9 15  7  8 14 10  5 10 14\n",
      "  6  0 12  0 12 10  7 15 11 19  5 12  0 11 17  7  9 11 10 11  9  9 16 10\n",
      " 10 12 11 18  9 11 14 12 10 11 18  8 11 11 11  6 10 15 15  8  8  0 13  8\n",
      " 14 14  0 15 10 15  9  0 14  6 16 13  0 19 12 10  8 11  8 18 11  0 16 11\n",
      "  8 13 11 13 11 16  9  4 11 11 18  6 17  7 11 10  0 10  8  9 12 12 15 10\n",
      "  8 11 12 17 10  0 16  8  8 11 15 11 15 11  0 18 13 15 12 15 15  0  9 18\n",
      " 10 15  6 18 11  6 19 13  9 11 10 16 15 13 10 14  8 13 14 10  0  8 11 18\n",
      " 11 15  9 10  0 10 13 13 14  8 13 14 10 19  5 10 11  6 10 10 12 13  0 15\n",
      " 13 11  8 14 14 15 10 18 16  9  8 13  0 13 10  7 16  0 10  5 17 11 14 13\n",
      " 15 15 15  9  8 12  0  8  0 14 13 13 10 10  8 12 13  6 14  9 10  0  0 10\n",
      " 13  9 10 13 10 12 13 11 17 12  8]\n"
     ]
    }
   ],
   "source": [
    "print(X)\n",
    "print(y)"
   ]
  },
  {
   "cell_type": "code",
   "execution_count": 8,
   "metadata": {},
   "outputs": [],
   "source": [
    "x_train,x_test,y_train,y_test=train_test_split(X,y,test_size=0.2)\n",
    "# keeping 20% test data seperate"
   ]
  },
  {
   "cell_type": "code",
   "execution_count": 9,
   "metadata": {},
   "outputs": [
    {
     "data": {
      "text/plain": [
       "'\\nbest=0\\nfor _ in range(100):\\n    x_train,x_test,y_train,y_test=train_test_split(X,y,test_size=0.2)\\n    linear=linear_model.LinearRegression()\\n    # linear regression model\\n    linear.fit(x_train,y_train)\\n    # fitting on the training dataset\\n    acc=linear.score(x_test,y_test)\\n    # getting the accuracy on the test data after training\\n    print(\"accuracy: \",acc*100)\\n    if(acc>best):\\n        best=acc\\n        print(\"best \",best*100)\\n        #to not train the dataset again n again we store the best accuracy achieved\\n        joblib.dump(linear,\\'studentgrades.pkl\\')\\n        '"
      ]
     },
     "execution_count": 9,
     "metadata": {},
     "output_type": "execute_result"
    }
   ],
   "source": [
    "\"\"\"\n",
    "best=0\n",
    "for _ in range(100):\n",
    "    x_train,x_test,y_train,y_test=train_test_split(X,y,test_size=0.2)\n",
    "    linear=linear_model.LinearRegression()\n",
    "    # linear regression model\n",
    "    linear.fit(x_train,y_train)\n",
    "    # fitting on the training dataset\n",
    "    acc=linear.score(x_test,y_test)\n",
    "    # getting the accuracy on the test data after training\n",
    "    print(\"accuracy: \",acc*100)\n",
    "    if(acc>best):\n",
    "        best=acc\n",
    "        print(\"best \",best*100)\n",
    "        #to not train the dataset again n again we store the best accuracy achieved\n",
    "        joblib.dump(linear,'studentgrades.pkl')\n",
    "        \"\"\""
   ]
  },
  {
   "cell_type": "code",
   "execution_count": 10,
   "metadata": {},
   "outputs": [],
   "source": [
    "file='studentgrades.pkl'\n",
    "linear=joblib.load(file)\n",
    "# loading the file again after getting the best accuracy in linear"
   ]
  },
  {
   "cell_type": "code",
   "execution_count": null,
   "metadata": {},
   "outputs": [],
   "source": []
  },
  {
   "cell_type": "code",
   "execution_count": null,
   "metadata": {},
   "outputs": [],
   "source": []
  },
  {
   "cell_type": "code",
   "execution_count": 11,
   "metadata": {},
   "outputs": [
    {
     "name": "stdout",
     "output_type": "stream",
     "text": [
      "coefficients:\n",
      " [ 0.14927808  0.99251651 -0.24167138 -0.37109187  0.04213657]\n",
      "Intercept:\n",
      " -1.5424411321465836\n"
     ]
    }
   ],
   "source": [
    "print(\"coefficients:\\n\",linear.coef_)\n",
    "# these are the slopes or 'm' in y=mx+c. as there are 5 attributes to be considered it is multidimensional and hence has many slopes\n",
    "# the slope or attribute with highest value contributes the most to final label or grade\n",
    "print(\"Intercept:\\n\",linear.intercept_)\n",
    "# intercept on y-axis or where the line cuts on the y-axis"
   ]
  },
  {
   "cell_type": "code",
   "execution_count": 12,
   "metadata": {},
   "outputs": [],
   "source": [
    "y_pred=linear.predict(x_test)\n",
    "# predicting the value of the test data"
   ]
  },
  {
   "cell_type": "code",
   "execution_count": 13,
   "metadata": {},
   "outputs": [],
   "source": [
    "from sklearn.metrics import mean_squared_error,mean_absolute_error"
   ]
  },
  {
   "cell_type": "code",
   "execution_count": 14,
   "metadata": {},
   "outputs": [
    {
     "name": "stdout",
     "output_type": "stream",
     "text": [
      "MSE:  3.3703659977419527\n",
      "MAE:  1.1932091549642223\n"
     ]
    }
   ],
   "source": [
    "print(\"MSE: \",mean_squared_error(y_test,y_pred))\n",
    "print(\"MAE: \",mean_absolute_error(y_test,y_pred))"
   ]
  },
  {
   "cell_type": "code",
   "execution_count": 15,
   "metadata": {},
   "outputs": [
    {
     "name": "stdout",
     "output_type": "stream",
     "text": [
      "4.704224559846117 [6 7 2 3 0] 0\n",
      "9.220097869266821 [11  9  1  1 19] 10\n",
      "12.901818913223563 [13 13  2  0  2] 13\n",
      "-1.929183930787321 [4 0 1 2 0] 0\n",
      "13.810062290322582 [13 14  2  0  0] 15\n",
      "9.327157062964446 [ 9 10  2  0  2] 9\n",
      "9.380441651142286 [ 9 10  3  0  9] 9\n",
      "12.085968839869027 [12 12  1  0  4] 13\n",
      "18.61891203479295 [17 18  1  0  0] 18\n",
      "14.051733672925904 [13 14  1  0  0] 14\n",
      "9.001212545852217 [ 9 10  3  0  0] 0\n",
      "15.702767257382598 [16 15  1  0  5] 16\n",
      "11.947838781933582 [11 12  2  0 10] 13\n",
      "9.161638645634445 [10 10  4  0  6] 11\n",
      "8.070166039246372 [10  8  1  0 10] 9\n",
      "9.150490624711056 [10 10  3  0  0] 9\n",
      "11.320310255415873 [ 8 12  1  0  0] 12\n",
      "6.116056314772931 [8 7 2 0 0] 8\n",
      "10.078002191969047 [ 9 11  3  0  2] 11\n",
      "4.188827862034 [ 5  5  2  0 12] 5\n",
      "-1.2183020651232734 [12  0  3  2  0] 0\n",
      "11.81029812956494 [12 12  2  1 12] 13\n",
      "-2.150997717664865 [5 0 1 3 0] 0\n",
      "5.001667154018832 [ 6  6  2  1 13] 8\n",
      "7.997040925660858 [10  8  2  0 14] 9\n",
      "15.33468617301592 [16 15  2  0  2] 15\n",
      "10.683234676639975 [12 11  2  0  0] 12\n",
      "14.951856880789345 [14 15  2  0  0] 15\n",
      "12.817545778714658 [13 13  2  0  0] 13\n",
      "14.369558020802549 [14 14  1  0  4] 14\n",
      "9.054562381618716 [11  9  2  0 12] 9\n",
      "-0.6253964125093485 [11  0  3  0  0] 0\n",
      "10.657355518174793 [11 11  1  1  6] 10\n",
      "7.163890773466221 [5 9 2 2 6] 7\n",
      "-0.533003108764863 [10  0  2  0  0] 0\n",
      "10.027810703067667 [12 10  2  0  8] 11\n",
      "2.4887163522208846 [7 4 1 2 0] 0\n",
      "5.881998013745145 [ 8  6  2  0 18] 7\n",
      "15.10113495964818 [15 15  2  0  0] 15\n",
      "9.802379658935507 [10 10  1  0  4] 10\n",
      "5.8175001570552585 [6 7 2 0 0] 0\n",
      "9.262152118614514 [ 8 10  2  0  4] 9\n",
      "8.331564522398166 [ 7 10  3  1  0] 10\n",
      "14.580257927392916 [15 14  2  1 20] 13\n",
      "10.702502866798946 [11 11  2  0  4] 11\n",
      "12.575874396111336 [13 13  3  0  0] 13\n",
      "17.23544606172286 [16 17  2  0  0] 17\n",
      "3.368981964358545 [7 5 3 1 0] 0\n",
      "12.864202328268183 [10 13  1  0  6] 13\n",
      "4.664050458005063 [ 6  5  1  0 14] 5\n",
      "12.066700649710056 [13 12  1  0  0] 12\n",
      "12.817545778714658 [13 13  2  0  0] 12\n",
      "12.223526562555774 [12 12  2  0 13] 13\n",
      "17.932499514889578 [17 17  2  0 13] 17\n",
      "8.568191764724261 [10  9  2  0  4] 9\n",
      "15.80990876898698 [17 15  1  0  4] 16\n",
      "8.908819242107732 [10 10  4  0  0] 10\n",
      "5.930292284821782 [7 8 2 3 2] 9\n",
      "15.682926731974929 [16 15  3  0 16] 15\n",
      "6.736973872984429 [ 9  7  2  1 20] 8\n",
      "5.009804393572519 [ 6  6  2  2 22] 4\n",
      "15.008741655903693 [16 15  3  0  0] 15\n",
      "12.83681396887363 [12 13  2  0  4] 13\n",
      "10.39590885775245 [13 10  2  1 22] 11\n",
      "7.023792604211907 [ 9  7  2  0 18] 6\n",
      "8.086947606013794 [9 9 1 2 8] 9\n",
      "7.445665364416474 [8 8 2 0 8] 6\n",
      "10.832512755498811 [13 11  2  0  0] 10\n",
      "9.335277232200026 [ 8 10  1  0  0] 11\n",
      "15.936253223161687 [15 16  3  0  2] 18\n",
      "10.28063010659438 [12 10  2  0 14] 11\n",
      "10.322701426260178 [10 11  4  0 10] 11\n",
      "10.916785890007715 [13 11  2  0  2] 11\n",
      "6.32124174628394 [8 8 1 3 2] 10\n",
      "8.418913685865425 [9 9 2 0 4] 10\n",
      "3.4613752681030308 [6 5 2 1 0] 0\n",
      "11.881914042221085 [15 12  3  0  0] 14\n",
      "12.575874396111336 [13 13  3  0  0] 14\n",
      "13.05921716131798 [13 13  1  0  0] 12\n"
     ]
    }
   ],
   "source": [
    "for i in range(len(y_pred)):\n",
    "    print(y_pred[i],x_test[i],y_test[i])\n",
    "# printing the value of the predicticted value, test attributes and comparing it with the predefined test values"
   ]
  },
  {
   "cell_type": "code",
   "execution_count": 16,
   "metadata": {},
   "outputs": [],
   "source": [
    "style.use('ggplot')"
   ]
  },
  {
   "cell_type": "code",
   "execution_count": 21,
   "metadata": {},
   "outputs": [],
   "source": [
    "plot=\"studytime\""
   ]
  },
  {
   "cell_type": "code",
   "execution_count": 22,
   "metadata": {},
   "outputs": [
    {
     "data": {
      "image/png": "[encoded data removed]",
      "text/plain": [
       "<Figure size 432x288 with 1 Axes>"
      ]
     },
     "metadata": {},
     "output_type": "display_data"
    }
   ],
   "source": [
    "plt.scatter(data[plot],data['G3'])\n",
    "plt.xlabel('features')\n",
    "plt.ylabel('final grade')\n",
    "plt.show()"
   ]
  },
  {
   "cell_type": "code",
   "execution_count": null,
   "metadata": {},
   "outputs": [],
   "source": []
  }
 ],
 "metadata": {
  "kernelspec": {
   "display_name": "Python 3",
   "language": "python",
   "name": "python3"
  },
  "language_info": {
   "codemirror_mode": {
    "name": "ipython",
    "version": 3
   },
   "file_extension": ".py",
   "mimetype": "text/x-python",
   "name": "python",
   "nbconvert_exporter": "python",
   "pygments_lexer": "ipython3",
   "version": "3.7.6"
  }
 },
 "nbformat": 4,
 "nbformat_minor": 4
}
